{
 "cells": [
  {
   "cell_type": "markdown",
   "id": "2c3a9ec2",
   "metadata": {},
   "source": [
    "# Solución Laboratorio Filtros\n",
    "# Alejandro Ocampo Rojas\n",
    "# cc1000883664"
   ]
  },
  {
   "cell_type": "markdown",
   "id": "530007c4",
   "metadata": {},
   "source": [
    "# 2. Diseño de Filtros (FIR) por Método de Enventanado"
   ]
  },
  {
   "cell_type": "markdown",
   "id": "7f9496d6",
   "metadata": {},
   "source": [
    "**2.1** Escriba un programa que grafique el audio (1.wav) en el tiempo. Recuerde normalizar la señal y crear su vector de tiempo dependiendo de la frecuencia de muestreo."
   ]
  },
  {
   "cell_type": "code",
   "execution_count": null,
   "id": "ab3207e1",
   "metadata": {},
   "outputs": [],
   "source": [
    "import numpy as np\n",
    "import matplotlib.pyplot as plt\n",
    "import scipy.signal as sp\n",
    "from numpy import pi\n",
    "from scipy.io.wavfile import read\n",
    "from IPython.display import Audio"
   ]
  },
  {
   "cell_type": "code",
   "execution_count": null,
   "id": "44709d0c",
   "metadata": {},
   "outputs": [],
   "source": [
    "#Leer el archivo de audio, establecer el vector de tiempo y normalizar la señal\n",
    "\n",
    "file = '1.wav' # Archivo \n",
    "fs, x = read(file) # leer el archivo y extraer su frecuencia de muestreo y amplitud\n",
    "x = x[:,1] #Convierte el audio de estereo a mono\n",
    "x = x/max(abs(x)) #Normalizar la señal\n",
    "t = np.arange(0, len(x)/fs, 1/fs) # Vector de tiempo\n",
    "\n",
    "# Graficar la señal de audio\n",
    "plt.plot(t,x)\n",
    "plt.title('Audio de música electrónica')\n",
    "plt.xlabel('Tiempo(seg)')\n",
    "plt.ylabel('Amplitud')\n",
    "plt.grid()\n",
    "plt.show()\n",
    "Audio(x, rate=fs)"
   ]
  },
  {
   "cell_type": "markdown",
   "id": "970fae91",
   "metadata": {},
   "source": [
    "**2.2** Grafique el espectro en frecuencia de la señal de audio"
   ]
  },
  {
   "cell_type": "code",
   "execution_count": null,
   "id": "d7ecb949",
   "metadata": {},
   "outputs": [],
   "source": [
    "X = np.fft.fft(x) #Se transforma la señal del dominio del tiempo al dominio de la frecuencia\n",
    "X_freq = np.fft.fftfreq(len(x))*fs #Se generan frecuencias normalizadas y se multiplican por fs para obtener frecuencias reales en unidades de Hertz\n",
    "\n",
    "# Grafica del espectro de la señal de audio\n",
    "\n",
    "plt.plot(X_freq, abs(X) **2) # Se traza el espectro de potencia de la señal de audio en función de las frecuencias.\n",
    "plt.title('Espectro en frecuencia')\n",
    "plt.xlabel('Frecuencia(Hz)')\n",
    "plt.ylabel('Amplitud')\n",
    "plt.xlim([-1000, 1000])\n",
    "plt.grid()\n",
    "plt.show()"
   ]
  },
  {
   "cell_type": "markdown",
   "id": "5f723ac9",
   "metadata": {},
   "source": [
    "**2.3** Respecto el audio anterior diseñe un filtro que obtenga en banda pasante las frecuencias mas bajas del audio de música electrónica, por medio del método de enventanado, donde aún se pueda escuchar el ritmo del audio a partir de las frecuencias por debajo de 90Hz . Además, probar con las ventanas de tiempo Hamming, Hanning, Rectangular y Blackman, y elegir cual es la indicada para el objetivo propuesto.  "
   ]
  },
  {
   "cell_type": "code",
   "execution_count": null,
   "id": "2107de74",
   "metadata": {},
   "outputs": [],
   "source": [
    "#------- Se calcula el orden del filtro\n",
    "fm = 40 \n",
    "fc = 90  \n",
    "N1 = 4*(fs/fm)\n",
    "N2 = 4*(fs/fm)\n",
    "N3 = 2*(fs/fm) - 1\n",
    "N4 = 6*(fs/fm)\n",
    "\n",
    "if(N1%2==0):\n",
    "    N1 = N1+1\n",
    "N1 = int(N1)\n",
    "\n",
    "if(N2%2==0):\n",
    "    N2 = N2+1\n",
    "N2 = int(N2)\n",
    "\n",
    "if(N3%2==0):\n",
    "    N3 = N3+1\n",
    "N3 = int(N3)\n",
    "\n",
    "if(N4%2==0):\n",
    "    N4 = N4+1\n",
    "N4 = int(N4)\n",
    "\n",
    "\n",
    "print('Orden del filtro con ventana Hamming: ', N1)\n",
    "print('Orden del filtro con ventana Hanning: ', N2)\n",
    "print('Orden del filtro con ventana Rectangular: ', N3)\n",
    "print('Orden del filtro con ventana Blackman: ', N4)\n",
    "\n",
    "#-------- Se realiza un filtro pasa-bajas\n",
    "\n",
    "from scipy.signal.windows import hamming, boxcar, hann, blackman\n",
    "\n",
    "wc = 2*pi*fc/fs #Frecuencia normalizada en radianes\n",
    "n1 = np.arange(-N1//2+1, N1//2+1) # Vector de muestras Hamming\n",
    "n2 = np.arange(-N2//2+1, N2//2+1) # Vector de muestras Hanning\n",
    "n3 = np.arange(-N3//2+1, N3//2+1) # Vector de muestras Rectangular\n",
    "n4 = np.arange(-N4//2+1, N4//2+1) # Vector de muestras Blackman\n",
    "\n",
    "hi1 = (wc/pi)*np.sinc(wc*n1/pi) # Respuesta a filtro ideal (con Hamming)\n",
    "hi2 = (wc/pi)*np.sinc(wc*n2/pi) # Respuesta a filtro ideal (con Hanning)\n",
    "hi3 = (wc/pi)*np.sinc(wc*n3/pi) # Respuesta a filtro ideal (con Rectangular)\n",
    "hi4 = (wc/pi)*np.sinc(wc*n4/pi) # Respuesta a filtro ideal (con Blackman)\n",
    "\n",
    "win1 = hamming(len(n1)) # Ventana Hamming\n",
    "win2 = hann(len(n2)) # Ventana Hanning\n",
    "win3 = boxcar(len(n3)) # Ventana Rectangular \n",
    "win4 = blackman(len(n4)) # Ventana Blackman\n",
    "\n",
    "hn1 = hi1*win1 \n",
    "hn2 = hi2*win2\n",
    "hn3 = hi3*win3\n",
    "hn4 = hi4*win4\n",
    "\n",
    "w1,h1 = sp.freqz(hn1,1,whole=True, worN=1024) #Respuesta en frecuencia\n",
    "w2,h2 = sp.freqz(hn2,1,whole=True, worN=1024)\n",
    "w3,h3 = sp.freqz(hn3,1,whole=True, worN=1024)\n",
    "w4,h4 = sp.freqz(hn4,1,whole=True, worN=1024)"
   ]
  },
  {
   "cell_type": "markdown",
   "id": "b3241f74",
   "metadata": {},
   "source": [
    "**2.4** Grafique la respuesta en frecuencia del filtro con la ventana ya aplicada. ¿Qué se puede observar? ¿Qué diferencia hay en cada gráfica?"
   ]
  },
  {
   "cell_type": "code",
   "execution_count": null,
   "id": "103201e8",
   "metadata": {},
   "outputs": [],
   "source": [
    "\n",
    "#----- Se grafica el filtro pasa bajas\n",
    "\n",
    "# Grafica del filtro pasa-bajos con Blackman\n",
    "plt.figure(figsize=(30,5))\n",
    "plt.subplot(221)\n",
    "plt.plot((w1-pi)*fs/(2*pi), np.abs(np.fft.fftshift(h1)),label='Filtro') #Se transforman frecuencias normalizadas en Hertz, obtener frecuencais en el rango correcto y se calculan los valores absolutos de la respuesta en frecuencia, para tener la respuesta en frecuencia centrada en la frecuencia cero\n",
    "plt.vlines(fc,0,1,color='r', lw=2, linestyle='--')\n",
    "plt.vlines(-fc,0,1,color='r', lw=2, linestyle='--')\n",
    "plt.vlines(fc+fm/2,0,1,color='g', lw=2, linestyle='--')\n",
    "plt.vlines(fc-fm/2,0,1,color='g', lw=2, linestyle='--')\n",
    "plt.vlines(-(fc+fm/2),0,1,color='g', lw=2, linestyle='--')\n",
    "plt.vlines(-(fc-fm/2),0,1,color='g', lw=2, linestyle='--')\n",
    "plt.title('Respuesta en frecuencia del pasa-bajos (Hamming)')\n",
    "plt.xlabel('Frecuencia(Hz)')\n",
    "plt.ylabel('Amplitud')\n",
    "plt.xlim([-1000, 1000])\n",
    "plt.grid()\n",
    "plt.tight_layout()\n",
    "\n",
    "# Grafica del filtro pasa-bajos con Hamming\n",
    "plt.figure(figsize=(30,5))\n",
    "plt.subplot(222)\n",
    "plt.plot((w2-pi)*fs/(2*pi), np.abs(np.fft.fftshift(h2)),label='Filtro')\n",
    "plt.vlines(fc,0,1,color='r', lw=2, linestyle='--')\n",
    "plt.vlines(-fc,0,1,color='r', lw=2, linestyle='--')\n",
    "plt.vlines(fc+fm/2,0,1,color='g', lw=2, linestyle='--')\n",
    "plt.vlines(fc-fm/2,0,1,color='g', lw=2, linestyle='--')\n",
    "plt.vlines(-(fc+fm/2),0,1,color='g', lw=2, linestyle='--')\n",
    "plt.vlines(-(fc-fm/2),0,1,color='g', lw=2, linestyle='--')\n",
    "plt.title('Respuesta en frecuencia del pasa-bajos (Hanning)')\n",
    "plt.xlabel('Frecuencia(Hz)')\n",
    "plt.ylabel('Amplitud')\n",
    "plt.xlim([-1000, 1000])\n",
    "plt.grid()\n",
    "plt.tight_layout()\n",
    "\n",
    "# Grafica del filtro pasa-bajos con Hanning\n",
    "plt.figure(figsize=(30,5))\n",
    "plt.subplot(223)\n",
    "plt.plot((w3-pi)*fs/(2*pi), np.abs(np.fft.fftshift(h3)),label='Filtro')\n",
    "plt.vlines(fc,0,1,color='r', lw=2, linestyle='--')\n",
    "plt.vlines(-fc,0,1,color='r', lw=2, linestyle='--')\n",
    "plt.vlines(fc+fm/2,0,1,color='g', lw=2, linestyle='--')\n",
    "plt.vlines(fc-fm/2,0,1,color='g', lw=2, linestyle='--')\n",
    "plt.vlines(-(fc+fm/2),0,1,color='g', lw=2, linestyle='--')\n",
    "plt.vlines(-(fc-fm/2),0,1,color='g', lw=2, linestyle='--')\n",
    "plt.title('Respuesta en frecuencia del pasa-bajos (Rectangular)')\n",
    "plt.xlabel('Frecuencia(Hz)')\n",
    "plt.ylabel('Amplitud')\n",
    "plt.xlim([-1000, 1000])\n",
    "plt.grid()\n",
    "plt.tight_layout()\n",
    "\n",
    "# Grafica del filtro pasa-bajos con rectangular\n",
    "plt.figure(figsize=(30,5))\n",
    "plt.subplot(223)\n",
    "plt.plot((w4-pi)*fs/(2*pi), np.abs(np.fft.fftshift(h4)),label='Filtro')\n",
    "plt.vlines(fc,0,1,color='r', lw=2, linestyle='--')\n",
    "plt.vlines(-fc,0,1,color='r', lw=2, linestyle='--')\n",
    "plt.vlines(fc+fm/2,0,1,color='g', lw=2, linestyle='--')\n",
    "plt.vlines(fc-fm/2,0,1,color='g', lw=2, linestyle='--')\n",
    "plt.vlines(-(fc+fm/2),0,1,color='g', lw=2, linestyle='--')\n",
    "plt.vlines(-(fc-fm/2),0,1,color='g', lw=2, linestyle='--')\n",
    "plt.title('Respuesta en frecuencia del pasa-bajos (Blackman)')\n",
    "plt.xlabel('Frecuencia(Hz)')\n",
    "plt.ylabel('Amplitud')\n",
    "plt.xlim([-1000, 1000])\n",
    "plt.grid()\n",
    "plt.tight_layout()\n",
    "plt.show()"
   ]
  },
  {
   "cell_type": "markdown",
   "id": "795b4c51",
   "metadata": {},
   "source": [
    "Al realizar un filtro con frecuencias tan bajas, hay diferencias muy sutiles en cuanto a la respuesta en frecuencia, donde la mas notable es el filtro diseñado con ventana rectangular, debido a que esta ventana tiende a tiener ripple, pero en cuanto hamming, hanning y blackman cuentan con bastante similitud. Hay que tener en cuenta que como se esta trabajando con frecuencias tan bajas, si se aumenta dicha frecuencia de corte se debe recalcular el ancho de banda de transición, lo ideal es que sea aproximadamente el 15% de la frecuencia de corte, sin embargo, en este caso se utiliza un ancho de banda de transición de aproximadamente el 50%, esto debido a que si computacionalmente un ancho de banda de transición muy pequeño es dificil de procesar por razones de requerimientos de muestreo, implica mayor resolución en el dominio de la frecuencia, además, al tener este ancho de banda de transición tan pequeño hace que aumente el orden del filtro, lo que implican mayores calculos, aumentando la carga computacional.\n",
    "\n",
    "Se puede observar como la linea roja representa la frecuencia de corte y las verdes la banda de transición, donde oportunamente con las 4 ventanas de tiempo se logra realizar un filtro pasa bajas. Cabe resaltar que el filtro diseñado con blackman tiene a tener mas angosto el lobulo principal, el cual, si se detalla con hamming y hanning se puede lograr ver."
   ]
  },
  {
   "cell_type": "markdown",
   "id": "6437d6a6",
   "metadata": {},
   "source": [
    "**2.5** Aplique el filtro realizado a la señal original. ¿Qué se observa con cada filtro aplicado a la señal original?"
   ]
  },
  {
   "cell_type": "code",
   "execution_count": null,
   "id": "48e6f993",
   "metadata": {},
   "outputs": [],
   "source": [
    "# --- Se compara el audio original con el filtrado\n",
    "y1 = np.convolve(hn1,x, mode='same') \n",
    "y2 = np.convolve(hn2,x, mode='same')\n",
    "y3 = np.convolve(hn3,x, mode='same')\n",
    "y4 = np.convolve(hn4,x, mode='same')\n",
    "\n",
    "# Grafica de la señal original\n",
    "plt.figure(figsize=(30,5))\n",
    "plt.subplot(221)\n",
    "plt.plot(t,x)\n",
    "plt.title('Audio original')\n",
    "plt.xlabel('Tiempo(seg)')\n",
    "plt.ylabel('Amplitud')\n",
    "plt.grid()\n",
    "plt.tight_layout()\n",
    "\n",
    "# Grafica de la señal filtrada (Pasa-Bajas y Blackman)\n",
    "plt.figure(figsize=(30,5))\n",
    "plt.subplot(222)\n",
    "plt.plot(t,y1)\n",
    "plt.title('Resultado de la convolución Audio original y Filtro (Pasa-Bajas y Hamming)')\n",
    "plt.xlabel('Tiempo(seg)')\n",
    "plt.ylabel('Amplitud')\n",
    "plt.grid()\n",
    "plt.tight_layout()\n",
    "\n",
    "# Grafica de la señal filtrada (Pasa-Bajas y Hamming)\n",
    "plt.figure(figsize=(30,5))\n",
    "plt.subplot(223)\n",
    "plt.plot(t,y2)\n",
    "plt.title('Resultado de la convolución Audio original y Filtro (Pasa-Bajas y Hanning)')\n",
    "plt.xlabel('Tiempo(seg)')\n",
    "plt.ylabel('Amplitud')\n",
    "plt.grid()\n",
    "plt.tight_layout()\n",
    "\n",
    "# Grafica de la señal filtrada (Pasa-Bajas y Hanning)\n",
    "plt.figure(figsize=(30,5))\n",
    "plt.subplot(223)\n",
    "plt.plot(t,y3)\n",
    "plt.title('Resultado de la convolución Audio original y Filtro (Pasa-Bajas y Rectangular)')\n",
    "plt.xlabel('Tiempo(seg)')\n",
    "plt.ylabel('Amplitud')\n",
    "plt.grid()\n",
    "plt.tight_layout()\n",
    "\n",
    "# Grafica de la señal filtrada (Pasa-Bajas y Rectangular)\n",
    "plt.figure(figsize=(30,5))\n",
    "plt.subplot(223)\n",
    "plt.plot(t,y4)\n",
    "plt.title('Resultado de la convolución Audio original y Filtro (Pasa-Bajas y Blackman)')\n",
    "plt.xlabel('Tiempo(seg)')\n",
    "plt.ylabel('Amplitud')\n",
    "plt.grid()\n",
    "plt.tight_layout()\n",
    "\n",
    "plt.show()\n",
    "\n"
   ]
  },
  {
   "cell_type": "markdown",
   "id": "32b3c8be",
   "metadata": {},
   "source": [
    "Al realizar la convolución de cada filtro con la señal original, se puede observar que el audio cambia rotundamente, pues al tener un filtro pasa bajas, con una frecuencia de corte tan pequeña, hace que el audio resultante quede silenciado en varios segundos, donde a simple vista aproximadamente desde el segundo 5 hasta el 17 el audio queda mudo, pero antes y despues de estos segundos se pueden escuchar las frecuencias que pertenecen a la banda pasante."
   ]
  },
  {
   "cell_type": "markdown",
   "id": "7475905b",
   "metadata": {},
   "source": [
    "**2.6** Escuche cada audio filtrado, y analice cual filtro fue el mejor para el objetivo propuesto."
   ]
  },
  {
   "cell_type": "code",
   "execution_count": null,
   "id": "3ef07f39",
   "metadata": {
    "scrolled": true
   },
   "outputs": [],
   "source": [
    "print(\"Audio Original: \")\n",
    "Audio(x, rate=fs)"
   ]
  },
  {
   "cell_type": "code",
   "execution_count": null,
   "id": "164643e6",
   "metadata": {},
   "outputs": [],
   "source": [
    "print(\"Audio filtro usando Hamming: \")\n",
    "Audio(y1, rate=fs)"
   ]
  },
  {
   "cell_type": "code",
   "execution_count": null,
   "id": "93a4c37b",
   "metadata": {},
   "outputs": [],
   "source": [
    "print(\"Audio filtro usando Hanning: \")\n",
    "Audio(y2, rate=fs)"
   ]
  },
  {
   "cell_type": "code",
   "execution_count": null,
   "id": "7eddd02d",
   "metadata": {},
   "outputs": [],
   "source": [
    "print(\"Audio filtro usando Rectangular: \")\n",
    "Audio(y3, rate=fs)"
   ]
  },
  {
   "cell_type": "code",
   "execution_count": null,
   "id": "8e39acba",
   "metadata": {},
   "outputs": [],
   "source": [
    "print(\"Audio filtro usando Blackman: \")\n",
    "Audio(y4, rate=fs)"
   ]
  },
  {
   "cell_type": "markdown",
   "id": "05f3b7a5",
   "metadata": {},
   "source": [
    "Al escuchar los audios, el mejor filtro es el que fué diseñado con la ventana de tiempo blackman, dado que concentra mucho mas el sonido de las frecuencias que se tenian como objetivo, en cuanto a los filtros diseñados con hamming y hanning son bastante similares, tambien filtran bien el sonido, sin embargo se escucha con mayor consistencia con el filtro blackman, y por ultimo el filtro diseñado con la ventana de tiempo rectangular es el menos oportuno, debido a que aun se puede escuchar de fondo la canción, por tal motivo no se cumple con este filtro del todo el objetivo propuesto. Dado lo anterior, se llega a la conclusión de que el filtro mejor diseñado para cumplir el objetivo propuesto fue el desarrollado con la ventana blackman."
   ]
  },
  {
   "cell_type": "markdown",
   "id": "c947ee94",
   "metadata": {},
   "source": [
    "**2.7** Compare el espectro en frecuencia del 2.2 con el espectro en frecuencia resultante de cada filtro."
   ]
  },
  {
   "cell_type": "code",
   "execution_count": null,
   "id": "deeeea89",
   "metadata": {
    "scrolled": true
   },
   "outputs": [],
   "source": [
    "y1 = np.fft.fft(y1)\n",
    "y2 = np.fft.fft(y2)\n",
    "y3 = np.fft.fft(y3)\n",
    "y4 = np.fft.fft(y4)\n",
    "\n",
    "y1_freq = np.fft.fftfreq(len(y1))*fs\n",
    "y2_freq = np.fft.fftfreq(len(y2))*fs\n",
    "y3_freq = np.fft.fftfreq(len(y3))*fs\n",
    "y4_freq = np.fft.fftfreq(len(y4))*fs\n",
    "\n",
    "plt.figure(figsize=(30,5))\n",
    "plt.subplot(221)\n",
    "plt.plot(X_freq, abs(X) **2)\n",
    "plt.xlim([-1000, 1000])\n",
    "plt.title('Espectro en frecuencia original')\n",
    "plt.xlabel('Frecuencia(Hz)')\n",
    "plt.ylabel('Amplitud')\n",
    "plt.grid()\n",
    "plt.tight_layout()\n",
    "\n",
    "plt.figure(figsize=(30,5))\n",
    "plt.subplot(222)\n",
    "plt.plot(y1_freq, abs(y1)**2)\n",
    "plt.xlim([-1000, 1000])\n",
    "plt.title('Espectro en frecuencia con Filtro pasa-bajas (Hamming)')\n",
    "plt.xlabel('Frecuencia(Hz)')\n",
    "plt.ylabel('Amplitud')\n",
    "plt.vlines(fc,0,1,color='r', lw=2, linestyle='--')\n",
    "plt.vlines(-fc,0,1,color='r', lw=2, linestyle='--')\n",
    "plt.grid()\n",
    "plt.tight_layout()\n",
    "\n",
    "\n",
    "plt.figure(figsize=(30,5))\n",
    "plt.subplot(223)\n",
    "plt.plot(y2_freq, abs(y2) **2)\n",
    "plt.xlim([-1000, 1000])\n",
    "plt.title('Espectro en frecuencia con Filtro pasa-bajas (Hanning)')\n",
    "plt.xlabel('Frecuencia(Hz)')\n",
    "plt.ylabel('Amplitud')\n",
    "plt.vlines(fc,0,1,color='r', lw=2, linestyle='--')\n",
    "plt.vlines(-fc,0,1,color='r', lw=2, linestyle='--')\n",
    "plt.grid()\n",
    "plt.tight_layout()\n",
    "\n",
    "plt.figure(figsize=(30,5))\n",
    "plt.subplot(223)\n",
    "plt.plot(y3_freq, abs(y3) **2)\n",
    "plt.xlim([-1000, 1000])\n",
    "plt.vlines(fc,0,1,color='r', lw=2, linestyle='--')\n",
    "plt.vlines(-fc,0,1,color='r', lw=2, linestyle='--')\n",
    "plt.title('Espectro en frecuencia con Filtro pasa-bajas (Rectangular)')\n",
    "plt.xlabel('Frecuencia(Hz)')\n",
    "plt.ylabel('Amplitud')\n",
    "plt.grid()\n",
    "plt.tight_layout()\n",
    "\n",
    "plt.figure(figsize=(30,5))\n",
    "plt.subplot(223)\n",
    "plt.plot(y4_freq, abs(y4) **2)\n",
    "plt.xlim([-1000, 1000])\n",
    "plt.title('Espectro en frecuencia con Filtro pasa-bajas (Blackman)')\n",
    "plt.xlabel('Frecuencia(Hz)')\n",
    "plt.ylabel('Amplitud')\n",
    "plt.vlines(fc,0,1,color='r', lw=2, linestyle='--')\n",
    "plt.vlines(-fc,0,1,color='r', lw=2, linestyle='--')\n",
    "plt.grid()\n",
    "plt.tight_layout()\n",
    "plt.show()\n"
   ]
  },
  {
   "cell_type": "markdown",
   "id": "feb1c54c",
   "metadata": {},
   "source": [
    "Al comparar el espectro en frecuencia original, con el espectro en frecuencia de los audios filtrados, se puede notar como desaparecen las frecuencias que no pertenecen a la banda pasante, es decir que estan en la banda atenuada, y al comparar las graficas de los audios filtrados, las diferencias son bastantes sutiles, pues la diferencia recalca basicamente en la ventana de tiempo utilizada para diseñar el filtro y como se pudo ver en la respuesta en frecuencia, no se logran ver muchas diferencias entre el filtro con blackman, hamming y hanning, pero con el filtro con ventana de tiempo rectangular, se ve bastante diferencia en amplitud, esto debido a que la ventana rectangular no tiene atenuación en los bordes, tiene un ancho constante en el dominio del tiempo, lo que resulta en una distribución de energía en frecuencia menos concentrada en la banda de paso del filtro."
   ]
  },
  {
   "cell_type": "markdown",
   "id": "7ff5e730",
   "metadata": {},
   "source": [
    "# 3. Diseño de Filtro Pasa Bandas con Filtro Pasa Bajas"
   ]
  },
  {
   "cell_type": "markdown",
   "id": "f7a74e08",
   "metadata": {},
   "source": [
    "**3.1** Realice un filtro pasa bandas a partir del diseño de un filtro pasa bajas y filtre las frecuencias de tal forma que el audio (1.wav) se escuche principalmente el piano, cabe resaltar que se debe usar la ventana Blackman."
   ]
  },
  {
   "cell_type": "markdown",
   "id": "9e4f73ae",
   "metadata": {},
   "source": [
    "**3.2** Halle el orden del filtro"
   ]
  },
  {
   "cell_type": "code",
   "execution_count": null,
   "id": "08cb55eb",
   "metadata": {},
   "outputs": [],
   "source": [
    "#------- Primero se hace un filtro pasa bajas\n",
    "fm_2 = 100 #45\n",
    "fc_2 = 1000 #90\n",
    "M1 = 6*(fs/fm_2)\n",
    "\n",
    "if(M1%2==0):\n",
    "    M1 = M1+1\n",
    "M1 = int(M1)\n",
    "\n",
    "\n",
    "print('Orden del filtro con ventana Blackman: ', M1)\n",
    "\n"
   ]
  },
  {
   "cell_type": "markdown",
   "id": "0c4e2085",
   "metadata": {},
   "source": [
    "**3.3** Grafique la respuesta en frecuencia del filtro pasa bajos. ¿Se puede ver un filtro pasa bajos?"
   ]
  },
  {
   "cell_type": "code",
   "execution_count": null,
   "id": "5797ad92",
   "metadata": {},
   "outputs": [],
   "source": [
    "#-------- Se realiza un filtro pasa-bajas\n",
    "\n",
    "from scipy.signal.windows import blackman\n",
    "\n",
    "wc_2 = 2*pi*fc_2/fs #Frecuencia normalizada en radianes\n",
    "\n",
    "n_2 = np.arange(-M1//2+1, M1//2+1) # Vector de muestras Blackman\n",
    "\n",
    "hi_2 = (wc_2/pi)*np.sinc(wc_2*n_2/pi) # Respuesta a filtro ideal (con Blackman)\n",
    "\n",
    "win_2 = blackman(len(n_2))\n",
    "\n",
    "\n",
    "hn_2 = hi_2*win_2\n",
    "\n",
    "\n",
    "w_2,h_2 = sp.freqz(hn_2,1,whole=True, worN=1024)\n",
    "plt.plot((w_2-pi)*fs/(2*pi), np.abs(np.fft.fftshift(h_2)),label='Filtro')\n",
    "plt.vlines(fc_2,0,1,color='r', lw=2, linestyle='--')\n",
    "plt.vlines(-fc_2,0,1,color='r', lw=2, linestyle='--')\n",
    "plt.vlines(fc_2+fm_2/2,0,1,color='g', lw=2, linestyle='--')\n",
    "plt.vlines(fc_2-fm_2/2,0,1,color='g', lw=2, linestyle='--')\n",
    "plt.vlines(-(fc_2-fm_2/2),0,1,color='g', lw=2, linestyle='--')\n",
    "plt.vlines(-(fc_2+fm_2/2),0,1,color='g', lw=2, linestyle='--')\n",
    "plt.title('Respuesta en frecuencia del pasa-bajos (Blackman)')\n",
    "plt.xlabel('Frecuencia(Hz)')\n",
    "plt.ylabel('Amplitud')\n",
    "plt.xlim([-2000, 2000])"
   ]
  },
  {
   "cell_type": "markdown",
   "id": "032b29ec",
   "metadata": {},
   "source": [
    "Se puede observar un filtro pasa bajos efectivamente, donde la linea roja representa la frecuencia de corte y las lineas verdes el ancho de la banda de transición "
   ]
  },
  {
   "cell_type": "markdown",
   "id": "61ad589d",
   "metadata": {},
   "source": [
    "**3.4** A partir del filtro pasa bajos, realice el filtro pasa altas, aplicando inversión espectral. Grafique el filtro pasa altas encontrado. ¿Se puede ver un filtro pasa altas?"
   ]
  },
  {
   "cell_type": "code",
   "execution_count": null,
   "id": "c735cce5",
   "metadata": {},
   "outputs": [],
   "source": [
    "fc_1 = 500 #1701\n",
    "fm_1 = 100\n",
    "#-------------------\n",
    "M = 6*(fs/fm_1)\n",
    "if(M%2==0):\n",
    "    M = M+1\n",
    "M = int(M)\n",
    "#-----------------\n",
    "\n",
    "print('Orden del filtro con ventana Blackman: ', M)\n",
    "\n",
    "from scipy.signal.windows import blackman\n",
    "\n",
    "wc_1 = 2*pi*fc_1/fs #Frecuencia normalizada en radianes\n",
    "n_1 = np.arange(-M//2+1, M//2+1) # Vector de muestras Blackman\n",
    "\n",
    "hi_1 = (wc_1/pi)*np.sinc(wc_1*n_1/pi) # Respuesta a filtro ideal (con Blackman)\n",
    "\n",
    "delta = np.zeros(len(n_1))\n",
    "delta[M //2] = 1\n",
    "hi_1 = delta - hi_1\n",
    "win_1 = blackman(len(n_1))\n",
    "hn_1 = hi_1 * win_1\n",
    "\n",
    "w_1,h_1 = sp.freqz(hn_1,1,whole=True, worN=1024)\n",
    "\n",
    "plt.plot((w_1 - pi)*fs/(2*pi), np.abs(np.fft.fftshift(h_1)), label='Filtro')\n",
    "plt.vlines(fc_1,0,1,color='r', lw=2, linestyle='--')\n",
    "plt.vlines(-fc_1,0,1,color='r', lw=2, linestyle='--')\n",
    "plt.vlines(fc_1+fm_1/2,0,1,color='g', lw=2, linestyle='--')\n",
    "plt.vlines(fc_1-fm_1/2,0,1,color='g', lw=2, linestyle='--')\n",
    "plt.vlines(-(fc_1-fm_1/2),0,1,color='g', lw=2, linestyle='--')\n",
    "plt.vlines(-(fc_1+fm_1/2),0,1,color='g', lw=2, linestyle='--')\n",
    "plt.title('Respuesta en frecuencia del pasa-altas (Blackman)')\n",
    "plt.xlabel('Frecuencia(Hz)')\n",
    "plt.ylabel('Amplitud')\n",
    "plt.xlim([-1000 ,1000])"
   ]
  },
  {
   "cell_type": "markdown",
   "id": "ab2a7c32",
   "metadata": {},
   "source": [
    "Se puede observar el filtro pasa altas, a partir del filtro pasa bajas, donde esto fue posible debido a la inversion espectral, pues al tener ya un filtro pasa bajas, al restarle este a un pasa todo, se puede obtener el filtro pasa altas."
   ]
  },
  {
   "cell_type": "markdown",
   "id": "e8ba7939",
   "metadata": {},
   "source": [
    "**3.5** Luego de tener los dos filtros realice un filtro pasa bandas. Tener en cuenta que la frecuencia de corte del filtro pasa bajas debe ser mayor a la del filtro pasa altas, para que se pueda obtener un filtro pasa bandas."
   ]
  },
  {
   "cell_type": "code",
   "execution_count": null,
   "id": "722c9329",
   "metadata": {},
   "outputs": [],
   "source": [
    "band_p = np.convolve(hi_1, hi_2 , mode=\"same\")\n",
    "w_3, h_3 = sp.freqz(band_p,1,whole=True)\n",
    "plt.plot((w_3 - pi)*fs/(2*pi), np.abs(np.fft.fftshift(h_3)), label='Filtro')\n",
    "plt.vlines(fc_1,0,1,color='r', lw=2, linestyle='--')\n",
    "plt.vlines(-fc_1,0,1,color='r', lw=2, linestyle='--')\n",
    "plt.vlines(fc_2,0,1,color='r', lw=2, linestyle='--')\n",
    "plt.vlines(-fc_2,0,1,color='r', lw=2, linestyle='--')\n",
    "plt.title('Respuesta en frecuencia del pasa-bandas')\n",
    "plt.xlabel('Frecuencia(Hz)')\n",
    "plt.ylabel('Amplitud')\n",
    "plt.xlim([-1500, 1500])"
   ]
  },
  {
   "cell_type": "code",
   "execution_count": null,
   "id": "b9fcf821",
   "metadata": {},
   "outputs": [],
   "source": [
    "y_final = np.convolve(band_p, x, mode=\"same\")\n",
    "plt.plot(t,x, label='Original')\n",
    "plt.plot(t, y_final, label='Filtrada')\n",
    "plt.title('Resultado de la convolución Audio original y Filtro (Pasa-bandas)')\n",
    "plt.xlabel('Tiempo(seg)')\n",
    "plt.ylabel('Amplitud')\n",
    "Audio(y_final, rate=fs)"
   ]
  },
  {
   "cell_type": "code",
   "execution_count": null,
   "id": "76cddeda",
   "metadata": {},
   "outputs": [],
   "source": [
    "y_final = np.fft.fft(y_final)\n",
    "\n",
    "y_final_freq = np.fft.fftfreq(len(y_final))*fs\n",
    "\n",
    "plt.figure(figsize=(30,5))\n",
    "plt.subplot(221)\n",
    "plt.plot(X_freq, abs(X) **2)\n",
    "plt.xlim([-1200, 1200])\n",
    "plt.title('Espectro en frecuencia original')\n",
    "plt.xlabel('Frecuencia(Hz)')\n",
    "plt.ylabel('Amplitud')\n",
    "plt.grid()\n",
    "plt.tight_layout()\n",
    "\n",
    "plt.figure(figsize=(30,5))\n",
    "plt.subplot(222)\n",
    "plt.plot(y_final_freq, abs(y_final) **2)\n",
    "plt.xlim([-1200, 1200])\n",
    "plt.title('Espectro en frecuencia pasa bandas')\n",
    "plt.xlabel('Frecuencia(Hz)')\n",
    "plt.ylabel('Amplitud')\n",
    "plt.grid()\n",
    "plt.tight_layout()"
   ]
  },
  {
   "cell_type": "markdown",
   "id": "f9d77323",
   "metadata": {},
   "source": [
    "\n",
    "# 4. Ventana Kaiser"
   ]
  },
  {
   "cell_type": "markdown",
   "id": "dcd4b1c8",
   "metadata": {},
   "source": [
    "**4.1** Defina la ventana Kaiser"
   ]
  },
  {
   "cell_type": "markdown",
   "id": "d021945a",
   "metadata": {},
   "source": [
    "La ventana Kaiser, también conocida como ventana de Bessel modificada o ventana de Kaiser-Bessel, es una función de ventana utilizada en el procesamiento de señales y análisis espectral. Es una ventana de tipo no rectangular que se utiliza para suavizar los efectos de las discontinuidades en los extremos de una señal antes de aplicar la transformada.\n",
    "\n",
    "Se caracteriza por su parámetro de forma, β, que controla la forma y el ancho de la ventana. Un valor más alto de β da como resultado una ventana más estrecha y con lóbulos laterales más bajos, mientras que un valor más bajo de β produce una ventana más amplia con lóbulos laterales más altos."
   ]
  },
  {
   "cell_type": "markdown",
   "id": "46c1a63c",
   "metadata": {},
   "source": [
    "**4.2** ¿Qué ventajas tiene esta ventana sobre las estudiadas anteriormente?"
   ]
  },
  {
   "cell_type": "markdown",
   "id": "170fc5b5",
   "metadata": {},
   "source": [
    "Esta ventana proporciona un mayor control sobre la forma y el ancho de la ventana en comparación con otras ventanas comunes, como la ventana rectangular, la ventana de Hamming, la ventana de Hanning y la ventana de Blackman. Esto permite ajustar de manera más precisa las características espectrales de una señal o un filtro.\n",
    "\n",
    "La ventana Kaiser ofrece una mejor supresión de los lóbulos laterales en comparación con ventanas como Hamming, Hanning, Blackman y rectangular. Los lóbulos laterales más bajos son deseables en muchas aplicaciones, ya que reducen la contaminación espectral y mejoran la resolución en frecuencia.\n",
    "\n",
    "Debido a su mejor atenuación de lóbulos laterales, la ventana Kaiser proporciona un mayor rechazo del espectro adyacente no deseado. Esto es especialmente beneficioso en aplicaciones donde se requiere un filtrado preciso y una buena selectividad."
   ]
  },
  {
   "cell_type": "markdown",
   "id": "831b45e1",
   "metadata": {},
   "source": [
    "**4.3** Grafique la ventana Kaiser con los valores de β de 50, 100, 500, 705. ¿Cuál es la diferencia con cada valor de beta?"
   ]
  },
  {
   "cell_type": "code",
   "execution_count": null,
   "id": "6ceba971",
   "metadata": {},
   "outputs": [],
   "source": [
    "import numpy as np\n",
    "import matplotlib.pyplot as plt\n",
    "\n",
    "# Valores de beta\n",
    "beta_values = [50, 100, 500, 705]\n",
    "\n",
    "# Tamaño de la ventana\n",
    "M = 100\n",
    "\n",
    "# Puntos de muestra\n",
    "n = np.arange(0, M)\n",
    "\n",
    "# Crear figura y ejes\n",
    "fig, ax = plt.subplots()\n",
    "\n",
    "# Graficar cada ventana Kaiser con diferentes valores de beta\n",
    "for beta in beta_values:\n",
    "    window = np.kaiser(M, beta)\n",
    "    ax.plot(n, window, label=f'β = {beta}')\n",
    "\n",
    "# Configurar leyenda, título y etiquetas de los ejes\n",
    "ax.legend()\n",
    "ax.set_title('Ventana Kaiser')\n",
    "ax.set_xlabel('Muestra (n)')\n",
    "ax.set_ylabel('Amplitud')\n",
    "\n",
    "# Mostrar la figura\n",
    "plt.show()\n"
   ]
  },
  {
   "cell_type": "markdown",
   "id": "bcc2fed8",
   "metadata": {},
   "source": [
    "Se puede obseervar que al variar el beta, entre mayor sea este la ventana es mas estrecha y entre mas bajo el valor del beta la ventana es mas amplia, lo que posibilita mucho la capacidad de precisión que tiene esta ventana sobre las otras ventanas"
   ]
  },
  {
   "cell_type": "markdown",
   "id": "4d3aad3d",
   "metadata": {},
   "source": [
    "**4.4** Cargue el audio (2.wav)"
   ]
  },
  {
   "cell_type": "code",
   "execution_count": null,
   "id": "e7791611",
   "metadata": {},
   "outputs": [],
   "source": [
    "#Leer el archivo de audio, establecer el vector de tiempo y normalizar la \n",
    "\n",
    "file_2 = '2.wav' # Archivo \n",
    "fs, x_2 = read(file_2) # leer el archivo y extraer su frecuencia de muestreo y amplitud\n",
    "x_2 = x_2[:,1] #Convierte el audio de estereo a mono\n",
    "x_2 = x_2/max(abs(x_2)) #Normalizar la señal\n",
    "t = np.arange(0, len(x_2)/fs, 1/fs) # Vector de tiempo\n",
    "\n",
    "plt.plot(t,x_2)\n",
    "plt.title('Audio Naturaleza y piano')\n",
    "plt.xlabel('Tiempo(seg)')\n",
    "plt.ylabel('Amplitud')\n",
    "plt.grid()\n",
    "plt.show()\n",
    "\n",
    "Audio(x_2, rate=fs)"
   ]
  },
  {
   "cell_type": "markdown",
   "id": "4aa714a7",
   "metadata": {},
   "source": [
    "**4.5** Grafique el espectro en frecuencia del audio original"
   ]
  },
  {
   "cell_type": "code",
   "execution_count": null,
   "id": "dea59b69",
   "metadata": {},
   "outputs": [],
   "source": [
    "X_2 = np.fft.fft(x_2)\n",
    "X_2_freq = np.fft.fftfreq(len(x_2))*fs\n",
    "\n",
    "# Grafica del espectro de la señal de audio\n",
    "\n",
    "plt.plot(X_2_freq, abs(X_2) **2)\n",
    "plt.title('Espectro')\n",
    "plt.xlabel('Frecuencia(Hz)')\n",
    "plt.ylabel('Amplitud')\n",
    "plt.xlim([-2000, 2000])\n",
    "plt.grid()\n",
    "plt.show()"
   ]
  },
  {
   "cell_type": "markdown",
   "id": "ce90f271",
   "metadata": {},
   "source": [
    "**4.6** Aplique la ventana Kaiser al audio (2.wav) y guarde el audio filtrado por la ventana con el nombre (3.wav). Compare la señal original en el tiempo con la señal filtrada."
   ]
  },
  {
   "cell_type": "code",
   "execution_count": null,
   "id": "8c86e369",
   "metadata": {},
   "outputs": [],
   "source": [
    "import numpy as np\n",
    "from scipy.io import wavfile\n",
    "from scipy.signal import convolve, kaiser\n",
    "import matplotlib.pyplot as plt\n",
    "\n",
    "# Cargar el archivo de audio\n",
    "fs, audio = wavfile.read(\"2.wav\")\n",
    "\n",
    "# Obtener los canales de audio por separado\n",
    "audio_left = audio[:, 0]\n",
    "audio_right = audio[:, 1]\n",
    "\n",
    "# Parámetros de la ventana de Kaiser\n",
    "beta = 705  # Parámetro beta de la ventana de Kaiser\n",
    "\n",
    "# Generar la ventana de Kaiser\n",
    "window = kaiser(len(audio_left), beta)\n",
    "#window1 = kaiser(len(audio_right), beta)\n",
    "\n",
    "# Aplicar la ventana de Kaiser a cada canal de audio\n",
    "audio_filtered_left = audio_left * window\n",
    "audio_filtered_right = audio_right * window\n",
    "\n",
    "# Combinar los canales filtrados en un solo arreglo de audio\n",
    "audio_filtered = np.column_stack((audio_filtered_left, audio_filtered_right))\n",
    "\n",
    "# Guardar la señal de audio filtrada en un nuevo archivo\n",
    "wavfile.write(\"3.wav\", fs, audio_filtered.astype(np.int16))\n",
    "\n",
    "# Graficar los canales de audio original y los canales filtrados\n",
    "plt.figure(figsize=(10, 4))\n",
    "plt.subplot(2, 2, 1)\n",
    "plt.plot(t,audio_left)\n",
    "plt.title(\"Canal izquierdo original\")\n",
    "plt.xlabel('Tiempo(seg)')\n",
    "plt.ylabel(\"Amplitud\")\n",
    "\n",
    "plt.subplot(2, 2, 2)\n",
    "plt.plot(t,audio_filtered_left)\n",
    "plt.title(\"Canal izquierdo filtrado con ventana de Kaiser\")\n",
    "plt.xlabel('Tiempo(seg)')\n",
    "plt.ylabel(\"Amplitud\")\n",
    "\n",
    "plt.subplot(2, 2, 3)\n",
    "plt.plot(t,audio_right)\n",
    "plt.title(\"Canal derecho original\")\n",
    "plt.xlabel('Tiempo(seg)')\n",
    "plt.ylabel(\"Amplitud\")\n",
    "\n",
    "plt.subplot(2, 2, 4)\n",
    "plt.plot(t,audio_filtered_right)\n",
    "plt.title(\"Canal derecho filtrado con ventana de Kaiser\")\n",
    "plt.xlabel('Tiempo(seg)')\n",
    "plt.ylabel(\"Amplitud\")\n",
    "\n",
    "plt.tight_layout()\n",
    "plt.show()\n"
   ]
  },
  {
   "cell_type": "markdown",
   "id": "b19205e8",
   "metadata": {},
   "source": [
    "En el codigo anterior se realiza el filtro de la ventana kaiser, donde se separa por dos canales, debido a que se quiere pasar de estereo a mono, entonces se trabajan las dos partes del audio de manera separada, y se filtran de manera separada, pero luego se unen las dos partes filtradas y se guardan con el nombre 3.wav. Se utiliza el beta mas alto del punto 4.3, para que se obtenga una mayor concentración al momento de filtrar el audio, y se puede ver evidentemente que tanto la parte izquierda como derecha fueron filtradas de manera exitosa, por tal motivo el audio filtrado solo se podria escuchar entre el segundo 10 y 15"
   ]
  },
  {
   "cell_type": "markdown",
   "id": "05c0b7df",
   "metadata": {},
   "source": [
    "**4.7** Cargue y escuche el audio (3.wav), que se puede escuchar."
   ]
  },
  {
   "cell_type": "code",
   "execution_count": null,
   "id": "bc55a98c",
   "metadata": {},
   "outputs": [],
   "source": [
    "#Leer el archivo de audio, establecer el vector de tiempo y normalizar la \n",
    "\n",
    "file_2 = '3.wav' # Archivo \n",
    "fs, x_2 = read(file_2) # leer el archivo y extraer su frecuencia de muestreo y amplitud\n",
    "x_2 = x_2[:,1] #Convierte el audio de estereo a mono\n",
    "x_2 = x_2/max(abs(x_2)) #Normalizar la señal\n",
    "t = np.arange(0, len(x_2)/fs, 1/fs) # Vector de tiempo\n",
    "\n",
    "Audio(x_2, rate=fs)"
   ]
  },
  {
   "cell_type": "markdown",
   "id": "56f9a148",
   "metadata": {},
   "source": [
    "**4.8** Finalmente, muestre el espectro en frecuencia del audio filtrado. ¿Qué se puede analizar de dicho espectro?"
   ]
  },
  {
   "cell_type": "code",
   "execution_count": null,
   "id": "078da022",
   "metadata": {},
   "outputs": [],
   "source": [
    "X_2 = np.fft.fft(x_2)\n",
    "X_2_freq = np.fft.fftfreq(len(x_2))*fs\n",
    "\n",
    "# Grafica del espectro de la señal de audio\n",
    "\n",
    "plt.plot(X_2_freq, abs(X_2) **2)\n",
    "plt.title('Espectro')\n",
    "plt.xlabel('Frecuencia(Hz)')\n",
    "plt.ylabel('Amplitud')\n",
    "plt.xlim([-2000, 2000])\n",
    "plt.grid()\n",
    "plt.show()"
   ]
  },
  {
   "cell_type": "markdown",
   "id": "d502bd6a",
   "metadata": {},
   "source": [
    "Si se compara el espectro en frecuencia de la señal filtrada con la ventana Kaiser con la señal de audio original, se puede ver como debido a lo angosto de la ventana generada, se omiten gran cantidad de frecuencias, por tal motivo esta ventana es muy util para analizar tramas de un audio puntual, donde se quiera eliminar información que no se necesite y se quiera centrar en que se muestre la información de una trama en especifico."
   ]
  }
 ],
 "metadata": {
  "kernelspec": {
   "display_name": "Python 3 (ipykernel)",
   "language": "python",
   "name": "python3"
  },
  "language_info": {
   "codemirror_mode": {
    "name": "ipython",
    "version": 3
   },
   "file_extension": ".py",
   "mimetype": "text/x-python",
   "name": "python",
   "nbconvert_exporter": "python",
   "pygments_lexer": "ipython3",
   "version": "3.9.12"
  }
 },
 "nbformat": 4,
 "nbformat_minor": 5
}
